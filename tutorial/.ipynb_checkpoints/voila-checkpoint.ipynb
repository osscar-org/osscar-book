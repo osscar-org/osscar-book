{
 "cells": [
  {
   "cell_type": "markdown",
   "id": "a375f1d5-bc5c-4ec6-a471-22181865d267",
   "metadata": {},
   "source": [
    "# **Using Voila to convert Jupyter notebooks into web application**"
   ]
  },
  {
   "cell_type": "markdown",
   "id": "31100f44-8390-42e9-a159-8fff57e29761",
   "metadata": {},
   "source": [
    "## 1. Introduction to Voila\n",
    "\n",
    "Volia is a program to convert the Jupyter notebooks into standalone web applications, \n",
    "which can be shared with people. Voila supports interactive widgets (ipywidgets), which\n",
    "is largely used in the OSSCAR project.\n",
    "\n",
    "\n",
    "When using the Voila, the Voila program will render the selected notebook. In other words, \n",
    "Voila will run all the code cells in the notebooks. Voila hides all the code cells and \n",
    "only show the output cells. It converts notebooks into web pages. One can see the texts \n",
    "and images on the web pages. Users can interact with the Jupyter kernel through widgets."
   ]
  },
  {
   "cell_type": "markdown",
   "id": "b72fd327-9f0c-49e6-8ad2-341afaf30a76",
   "metadata": {},
   "source": [
    "## 2. Run Voila and Deploy Web Application\n",
    "\n",
    "### **a. Run Voila locally**\n",
    "\n",
    "Voila can be deployed with a variety of platforms. Primarly, one can access the web pages locally.\n",
    "The default port number is 8866. One can specify the port number with \"--port\". There are two ways\n",
    "to use Voila locally.\n",
    "\n",
    "- Run Voila as Jupyter server extension:\n",
    "\n",
    "    One can access the web apps through Jupyter server extension by inserting\n",
    "    \"/voila/rende/\" after the Jupyter base URL and before the notebook path. \n",
    "\n",
    "```bash\n",
    "localhost:8888/voila/render/your_notebook.ipynb\n",
    "```\n",
    "\n",
    "- Run Voila as standalone application:</strong>\n",
    "\n",
    "    One can also run Voila as standalone application through terminal. \n",
    "\n",
    "```bash\n",
    "voila --template=osscar --enable_nbextensions=True your_notebook.ipynb\n",
    "```"
   ]
  },
  {
   "cell_type": "markdown",
   "id": "28f92ff1-a0c1-408d-aaff-04c9f47759a1",
   "metadata": {},
   "source": [
    "### **b. Deploying with Binder (mybinder.org)**\n",
    "\n",
    "Binder (mybinder.org) offers free cloud computing services to deploy Jupyter applications.\n",
    "We can deploy the web applications with Voila by calling the Voila server extension. \n",
    "One can follow the steps as listed below:\n",
    "\n",
    "- In order to use the voila, one needs to install the voila. For the binder cloud, \n",
    "put the package name \"voila\" into the requirements.txt file. \n",
    "- The voila Jupyter server extension is named as \"<strong>voila/render</strong>\".\n",
    "\n",
    "Put the URL in the mybinder.org as shown below:\n",
    "\n",
    "![voila](./images/fig_binderVoila.png)"
   ]
  },
  {
   "cell_type": "markdown",
   "id": "c918c913-3c47-4287-a392-55b39531344f",
   "metadata": {},
   "source": [
    "### **c. Deploying at dokku server**\n",
    "\n",
    "The disadavantage of using Binder is that the cloud computing power is very limited and\n",
    "loading can take long time. Alternately, we can delopy the apps on dokku servers.\n",
    "Dokku is a open source platform as a service, which supports voila delopyment as\n",
    "web applications. One can set up their own dokku servers. Otherwise, there is a \n",
    "dokku server maintained by Materials Cloud team. Here is the link for how to deploy \n",
    "a new tool at Materials Cloud.\n",
    "\n",
    "https://github.com/materialscloud-org/issues/wiki/Contributing-a-new-tool\n",
    "\n",
    "For deploying apps with Voila for single notebook, we need set the Procfile file as:\n",
    "\n",
    "```bash\n",
    "web: voila —-port=$PORT —-no-browser your_notebook.ipynb\n",
    "```\n",
    "\n",
    "For multiple notebooks, one can put them in a folder and use Voila to host the \n",
    "whole folder as:\n",
    "\n",
    "```bash\n",
    "web: voila —-port=$PORT —-no-browser your_folder/\n",
    "```\n",
    "\n",
    "In order to save the computing resources and prevent unstopping kernels, one\n",
    "can set the timeout to kill idle kernels as:\n",
    "\n",
    "```bash\n",
    "web: voila —-port=$PORT —-no-browser your_notebook.ipynb --MappingKernelManager.cull_interval=60 --MappingKernelManager.cull_idle_timeout=120\n",
    "```"
   ]
  },
  {
   "cell_type": "markdown",
   "id": "a7565b99-f5d9-4a81-8666-2fbeb2e27d91",
   "metadata": {},
   "source": [
    "## 3. Use OSSCAR Voila template"
   ]
  },
  {
   "cell_type": "markdown",
   "id": "de5f5d8f-e543-43ab-bf91-c276664fa695",
   "metadata": {},
   "source": [
    "We developed a Voila template (<strong>voila-osscar-template</strong>) \n",
    "for the OSSCAR project. The template has been released with PyPi. \n",
    "One can install it locally with pip.\n",
    "\n",
    "```python\n",
    "pip install voila-osscar-template\n",
    "```\n",
    "For delopying with Binder and Dokku platforms,\n",
    "One needs to put the \"voila-osscar-template\" into the <strong>requriments.txt</strong> file. \n",
    "For Binder, one needs to specify the <strong>jupyter_config.json</strong> file in the GitHub \n",
    "repository. The context of this file is shown below:\n",
    "\n",
    "```bash\n",
    "{\n",
    "  \"VoilaConfiguration\": {\n",
    "    \"enable_nbextensions\": true,  \n",
    "    \"theme\": \"light\",\n",
    "    \"template\": \"osscar\"\n",
    "  }\n",
    "}\n",
    "```\n",
    "\n",
    "Normally, we need to set the <strong>enable_nbextenions: true</strong> for \n",
    "using custom widgets like the \"widget-periodictable\". The <strong>theme</strong> \n",
    "has two options, <strong>light</strong> and <strong>dark</strong>.\n",
    "\n",
    "For dokku, we can modify the Procfile file as:\n",
    "\n",
    "```bash\n",
    "web: voila --template=osscar --VoilaConfiguration.enable_nbextensions=True --port=$PORT --no-browser your_notebook.ipynb\n",
    "```\n",
    "\n",
    "For mutiple notebooks, this template (special feature) will redirect the starting page\n",
    "from \"index.ipynb\". One can create the \"index.ipynb\" file to link all\n",
    "other notebooks. The Procfile is shown below:\n",
    "\n",
    "```bash\n",
    "web: voila --template=osscar --VoilaConfiguration.enable_nbextensions=True --port=$PORT --no-browser your_folder/\n",
    "```"
   ]
  },
  {
   "cell_type": "code",
   "execution_count": null,
   "id": "cd9ea4ab-5e9f-4b29-a220-d37a75b26724",
   "metadata": {},
   "outputs": [],
   "source": []
  }
 ],
 "metadata": {
  "kernelspec": {
   "display_name": "Python 3 (ipykernel)",
   "language": "python",
   "name": "python3"
  },
  "language_info": {
   "codemirror_mode": {
    "name": "ipython",
    "version": 3
   },
   "file_extension": ".py",
   "mimetype": "text/x-python",
   "name": "python",
   "nbconvert_exporter": "python",
   "pygments_lexer": "ipython3",
   "version": "3.8.8"
  }
 },
 "nbformat": 4,
 "nbformat_minor": 5
}

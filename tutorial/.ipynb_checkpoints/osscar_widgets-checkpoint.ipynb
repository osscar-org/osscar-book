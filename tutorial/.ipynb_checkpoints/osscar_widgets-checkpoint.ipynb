{
 "cells": [
  {
   "cell_type": "markdown",
   "metadata": {},
   "source": [
    "# **A simple web application with nglview and periodic table widget**\n",
    "\n",
    "In this notebook, we give a more complex example, which is more directly related to computational chemistry and physics.\n",
    "We are going to use the atomic simulation environment (ASE) package to build molecular structure. Then the \n",
    "three-dimensional geometrical structure of the selected molecule will be shown in the NGL visualizer.\n",
    "The elements of the molecule will be highlighted in the interactive periodic table."
   ]
  },
  {
   "cell_type": "markdown",
   "metadata": {},
   "source": [
    "## 1. Import pacakges\n",
    "\n",
    "* We import the `Textarea` widget from \"ipywidgets\". We use it enable users to input the name of the molecule they wish to visualize.\n",
    "* Atomic simulation environment (ASE) is a python package, which contains a variety of functions and tools for computational chemistry and physics. Here, we import the molecule function, which has the geometry data for some popular molecules.\n",
    "* NGLview is a powerful molecular visualizer. Here we are using it to visualize the molecular structure.\n",
    "* We are using the interactive periodic table to highlight the elements of the molecules. This widget is developed under the OSSCAR project."
   ]
  },
  {
   "cell_type": "code",
   "execution_count": null,
   "metadata": {},
   "outputs": [],
   "source": [
    "from ipywidgets import HBox, VBox, Textarea, Button, Layout\n",
    "from ase.build import molecule\n",
    "import nglview as nv\n",
    "from widget_periodictable import PTableWidget"
   ]
  },
  {
   "cell_type": "markdown",
   "metadata": {},
   "source": [
    "## 2. Initialize a default molecule\n",
    "\n",
    "Initialize the Fullerene (C60) as the default molecule and show it in the visualizer."
   ]
  },
  {
   "cell_type": "code",
   "execution_count": null,
   "metadata": {},
   "outputs": [],
   "source": [
    "#Initialize the fullerene molecule \n",
    "aa = molecule(\"C60\")\n",
    "\n",
    "#Set the cell parameters and periodic boundary condition\n",
    "aa.set_cell([[15, 0, 0], [0, 15, 0], [0, 0, 15]])\n",
    "aa.center()\n",
    "aa.pbc=True\n",
    "\n",
    "#Show the fullerene in the NGL visualizer\n",
    "view = nv.show_ase(aa)\n",
    "view.add_unitcell()\n",
    "view.control.zoom(0.2)\n",
    "view.add_ball_and_stick(aspectRatio=4)\n",
    "view.camera='perspective'"
   ]
  },
  {
   "cell_type": "markdown",
   "metadata": {},
   "source": [
    "## 3. Deploy a textarea for the input of the molecule name\n",
    "\n",
    "Use the `Textarea` widget from the \"ipywidgets\" package."
   ]
  },
  {
   "cell_type": "code",
   "execution_count": null,
   "metadata": {},
   "outputs": [],
   "source": [
    "w = Textarea(\n",
    "    value='C60',\n",
    "    placeholder='Type your molecule',\n",
    "    description='Molecule:',\n",
    "    disabled=False,\n",
    "    layout=Layout(width='28%', height='27px')\n",
    ")"
   ]
  },
  {
   "cell_type": "markdown",
   "metadata": {},
   "source": [
    "## 4. Deploy the interactive periodic table"
   ]
  },
  {
   "cell_type": "code",
   "execution_count": null,
   "metadata": {},
   "outputs": [],
   "source": [
    "PTable = PTableWidget(states=1, selected_colors = ['red'], selected_elements = {'C':0})"
   ]
  },
  {
   "cell_type": "markdown",
   "metadata": {},
   "source": [
    "## 5. Define the callback function for the button click event\n",
    "\n",
    "Here, we deploy an \"Update\" button, which reads the name of the molecule from the textarea and updates the\n",
    "structure in the visualizer and highlighted elements in the periodic table."
   ]
  },
  {
   "cell_type": "code",
   "execution_count": null,
   "metadata": {},
   "outputs": [],
   "source": [
    "def on_button_click(b):\n",
    "    global view\n",
    "    aa = molecule(w.value)\n",
    "    aa.set_cell([[15, 0, 0], [0, 15, 0], [0, 0, 15]])\n",
    "    aa.center()\n",
    "    aa.pbc=True\n",
    "    for comp_id in view._ngl_component_ids:\n",
    "        view.remove_component(comp_id)\n",
    "    view.add_component(nv.ASEStructure(aa))\n",
    "    view.clear()\n",
    "    view.add_ball_and_stick(aspectRatio=4)\n",
    "    view.add_unitcell()\n",
    "    view.control.zoom(0.2)\n",
    "    PTable.selected_elements = {key: 0 for key in list(dict.fromkeys(aa.get_chemical_symbols()))}\n",
    "    \n",
    "b = Button(description = 'Update')\n",
    "b.on_click(on_button_click)"
   ]
  },
  {
   "cell_type": "markdown",
   "metadata": {},
   "source": [
    "## 6. Display the widgets\n",
    "\n",
    "Display all the widgets and arrange them in a nice layout."
   ]
  },
  {
   "cell_type": "code",
   "execution_count": null,
   "metadata": {},
   "outputs": [],
   "source": [
    "display(HBox([w, b]), VBox([view, PTable]))"
   ]
  },
  {
   "cell_type": "code",
   "execution_count": null,
   "metadata": {},
   "outputs": [],
   "source": []
  }
 ],
 "metadata": {
  "kernelspec": {
   "display_name": "Python 3 (ipykernel)",
   "language": "python",
   "name": "python3"
  },
  "language_info": {
   "codemirror_mode": {
    "name": "ipython",
    "version": 3
   },
   "file_extension": ".py",
   "mimetype": "text/x-python",
   "name": "python",
   "nbconvert_exporter": "python",
   "pygments_lexer": "ipython3",
   "version": "3.8.8"
  }
 },
 "nbformat": 4,
 "nbformat_minor": 4
}

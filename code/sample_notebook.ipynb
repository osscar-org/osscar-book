{
 "cells": [
  {
   "cell_type": "markdown",
   "metadata": {},
   "source": [
    "# **Notebook Title**\n",
    "\n",
    "**Authors:** author 1, author 2, ...\n",
    "\n",
    "<i class=\"fa fa-home fa-2x\"></i><a href=\"../index.ipynb\" style=\"font-size: 20px\"> Go back to index</a>\n",
    "\n",
    "**Source code:** \n",
    "_In this section a link to the source code on OSSCAR's main GitHub repository is provided. This adheres to the open science principle of sharing all code as open source. Furthermore, this encourages advanced users to look into the code_.\n",
    "https://github.com/osscar-org/quantum-mechanics/blob/master/notebook/course_section/notebook_title.ipynb\n",
    "\n",
    "_Here, some short description is given to introduce the topic of the notebook_.\n",
    "<hr style=\"height:1px;border:none;color:#cccccc;background-color:#cccccc;\" />"
   ]
  },
  {
   "cell_type": "markdown",
   "metadata": {},
   "source": [
    "## **Goals**\n",
    "_A concise bulletpoint list of goals aids in directing the students' focus during their use of the notebook._\n",
    "* Goal 1\n",
    "* Goal 2\n",
    "* Goal 3"
   ]
  },
  {
   "cell_type": "markdown",
   "metadata": {},
   "source": [
    "## **Background theory**\n",
    "_A link is provided to a separate notebook that provides more detail on the background theory underlying the topic of the notebook. The notebook should be included in the theory subdirectory of the current directory and called theory_notebook_title.ipynb._\n",
    "[**More in the background theory.**](./theory/theory_soft.ipynb)"
   ]
  },
  {
   "cell_type": "markdown",
   "metadata": {},
   "source": [
    "## **Tasks and exercises**\n",
    "_Add here a list of tasks for the students to complete (typically between 2-6 tasks). The purpose of these tasks is primarily to provide direction for the students' usage of the interactive components of the notebook rather than constituting fully-fledged assessment.\n",
    "\n",
    "Solutions are also provided, which additionally allows the notebooks to be used offline either as a take-home exercise or for revision. Solutions should be sufficiently detailed for this purpose but may refer to external material to remain as concise as possible. The solutions are initially hidden - this has been shown to improve the effectiveness of learning by encouraging students to consider their responses before looking at the answers._\n",
    "<ol style=\"text-align: justify;font-size:15px\">\n",
    "    <li> Task 1\n",
    "    <details>\n",
    "    <summary style=\"color: red\">Solution</summary>\n",
    "        Solution for task one.\n",
    "    </details>\n",
    "    </li>\n",
    "    <li> Task 2\n",
    "    <details>\n",
    "    <summary style=\"color: red\">Solution</summary>\n",
    "        Solution for task two.\n",
    "    </details>\n",
    "    </li>\n",
    "    <li> Task 3\n",
    "    <details>\n",
    "    <summary style=\"color: red\">Solution</summary>\n",
    "    Solution for task 3.\n",
    "    </details>\n",
    "    </li>\n",
    "    <li> Task 4\n",
    "        <details>\n",
    "    <summary style=\"color: red\">Solution</summary>\n",
    "    Solution for task 4.\n",
    "    </details>\n",
    "    </li>"
   ]
  },
  {
   "cell_type": "markdown",
   "metadata": {},
   "source": [
    "<hr style=\"height:1px;border:none;color:#cccccc;background-color:#cccccc;\" />\n",
    "\n",
    "## Interactive visualization\n",
    "(be patient, it might take a few seconds to load)"
   ]
  },
  {
   "cell_type": "markdown",
   "metadata": {},
   "source": [
    "_This is the core section of the notebook and contains all plots, widgets and interactive components._"
   ]
  },
  {
   "cell_type": "code",
   "execution_count": null,
   "metadata": {},
   "outputs": [],
   "source": []
  },
  {
   "cell_type": "markdown",
   "metadata": {},
   "source": [
    "<hr style=\"height:1px;border:none;color:#cccccc;background-color:#cccccc;\" />\n",
    "\n",
    "# Legend\n",
    "\n",
    "(How to use the interactive visualization)\n",
    "\n",
    "## Interactive figures\n",
    "\n",
    "_Here a description of what each of the different visualization components show is given to aid in usage of the notebook during and after a lesson._\n",
    "\n",
    "\n",
    "## Controls\n",
    "\n",
    "_A breakdown of how the various input parameters of the notebook can be tuned is provided. For example, \"slider A allows modification of parameter A\", etc._"
   ]
  },
  {
   "cell_type": "code",
   "execution_count": null,
   "metadata": {},
   "outputs": [],
   "source": []
  }
 ],
 "metadata": {
  "kernelspec": {
   "display_name": "Python 3 (ipykernel)",
   "language": "python",
   "name": "python3"
  },
  "language_info": {
   "codemirror_mode": {
    "name": "ipython",
    "version": 3
   },
   "file_extension": ".py",
   "mimetype": "text/x-python",
   "name": "python",
   "nbconvert_exporter": "python",
   "pygments_lexer": "ipython3",
   "version": "3.9.5"
  },
  "voila": {
   "authors": "Dou Du, Sara Bonella and Giovanni Pizzi"
  }
 },
 "nbformat": 4,
 "nbformat_minor": 4
}

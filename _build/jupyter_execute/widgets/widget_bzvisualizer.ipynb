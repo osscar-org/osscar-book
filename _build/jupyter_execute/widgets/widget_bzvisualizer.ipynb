{
 "cells": [
  {
   "cell_type": "markdown",
   "id": "alpine-philip",
   "metadata": {},
   "source": [
    "# `widget-bzvisualizer`: A Jupyter widget to visualize the 1st Brillouin zone and band paths\n",
    "\n",
    "**Introduction**: A Jupyter widget to plot the 1st Brillouin zone and band paths. \n",
    "It uses the Javascript package [tools-seekpath](https://seekpath.readthedocs.io) developed \n",
    "by Materials Cloud."
   ]
  },
  {
   "cell_type": "markdown",
   "id": "7e37fe20-8d65-4556-9b77-86d5d422933e",
   "metadata": {},
   "source": [
    "## 1. Import the widget from the package"
   ]
  },
  {
   "cell_type": "code",
   "execution_count": 1,
   "id": "frank-reputation",
   "metadata": {},
   "outputs": [
    {
     "ename": "ModuleNotFoundError",
     "evalue": "No module named 'widget_bzvisualizer'",
     "output_type": "error",
     "traceback": [
      "\u001b[0;31m---------------------------------------------------------------------------\u001b[0m",
      "\u001b[0;31mModuleNotFoundError\u001b[0m                       Traceback (most recent call last)",
      "\u001b[0;32m/tmp/ipykernel_20928/1652702274.py\u001b[0m in \u001b[0;36m<module>\u001b[0;34m\u001b[0m\n\u001b[0;32m----> 1\u001b[0;31m \u001b[0;32mfrom\u001b[0m \u001b[0mwidget_bzvisualizer\u001b[0m \u001b[0;32mimport\u001b[0m \u001b[0mBZVisualizer\u001b[0m\u001b[0;34m\u001b[0m\u001b[0;34m\u001b[0m\u001b[0m\n\u001b[0m\u001b[1;32m      2\u001b[0m \u001b[0;32mimport\u001b[0m \u001b[0mnumpy\u001b[0m \u001b[0;32mas\u001b[0m \u001b[0mnp\u001b[0m\u001b[0;34m\u001b[0m\u001b[0;34m\u001b[0m\u001b[0m\n\u001b[1;32m      3\u001b[0m \u001b[0;32mfrom\u001b[0m \u001b[0mase\u001b[0m\u001b[0;34m.\u001b[0m\u001b[0mdft\u001b[0m\u001b[0;34m.\u001b[0m\u001b[0mkpoints\u001b[0m \u001b[0;32mimport\u001b[0m \u001b[0;34m*\u001b[0m\u001b[0;34m\u001b[0m\u001b[0;34m\u001b[0m\u001b[0m\n",
      "\u001b[0;31mModuleNotFoundError\u001b[0m: No module named 'widget_bzvisualizer'"
     ]
    }
   ],
   "source": [
    "from widget_bzvisualizer import BZVisualizer\n",
    "import numpy as np\n",
    "from ase.dft.kpoints import *"
   ]
  },
  {
   "cell_type": "markdown",
   "id": "59a74f7b-d9d6-49e9-a48a-cec23a88738c",
   "metadata": {},
   "source": [
    "## 2. Initialize the parameters for the widget\n",
    "\n",
    "* cell: the cell vectors a, b, c\n",
    "* positions: the coordinates of the atoms\n",
    "* elements: the elements of the atoms in an array"
   ]
  },
  {
   "cell_type": "code",
   "execution_count": null,
   "id": "mighty-devon",
   "metadata": {},
   "outputs": [],
   "source": [
    "lattice = np.array([[1, 0, 0], [0, 1, 0], [0, 0, 1]])\n",
    "\n",
    "w = BZVisualizer(lattice, [[0.0, 0.0, 0.0]], [1], True)\n",
    "display(w)"
   ]
  },
  {
   "cell_type": "markdown",
   "id": "2bcdc82d-4f4a-4a68-bfac-fa2ca5c553c9",
   "metadata": {},
   "source": [
    "```{image} ./images/widget_bzvisualizer.png\n",
    ":alt: image periodictable\n",
    ":class: bg-primary mb-1\n",
    ":width: 500px\n",
    ":align: center\n",
    "```"
   ]
  },
  {
   "cell_type": "markdown",
   "id": "fa2d7943-3705-4d56-8e06-e75c3cc1776f",
   "metadata": {},
   "source": [
    "### One can also change the kpoints coordinates in the widget"
   ]
  },
  {
   "cell_type": "code",
   "execution_count": null,
   "id": "veterinary-objective",
   "metadata": {},
   "outputs": [],
   "source": [
    "w.kpts = (monkhorst_pack((8, 8, 8))*2*np.pi).tolist()"
   ]
  },
  {
   "cell_type": "code",
   "execution_count": null,
   "id": "stretch-animal",
   "metadata": {},
   "outputs": [],
   "source": []
  }
 ],
 "metadata": {
  "kernelspec": {
   "display_name": "Python 3 (ipykernel)",
   "language": "python",
   "name": "python3"
  },
  "language_info": {
   "codemirror_mode": {
    "name": "ipython",
    "version": 3
   },
   "file_extension": ".py",
   "mimetype": "text/x-python",
   "name": "python",
   "nbconvert_exporter": "python",
   "pygments_lexer": "ipython3",
   "version": "3.8.10"
  }
 },
 "nbformat": 4,
 "nbformat_minor": 5
}
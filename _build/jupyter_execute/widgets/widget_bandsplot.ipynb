{
 "cells": [
  {
   "cell_type": "markdown",
   "metadata": {},
   "source": [
    "# **A Jupyter widget to plot the bandstructure and density of states (DOS)**\n",
    "\n",
    "<hr style=\"height:1px;border:none;color:#cccccc;background-color:#cccccc;\" />"
   ]
  },
  {
   "cell_type": "markdown",
   "metadata": {},
   "source": [
    "<p style=\"text-align: justify;font-size:15px\">\n",
    "    This widget facilitates the plotting of electronic bandstructure and density of states from supplied json files.\n",
    "</p>\n",
    "\n",
    "```{image} ./images/bands.png\n",
    ":alt: image bandstructure\n",
    ":class: bg-primary mb-1\n",
    ":width: 800px\n",
    ":height: 500px\n",
    ":align: center\n",
    "```\n",
    "\n",
    "\n",
    "## **Input json files**\n",
    "\n",
    "<p style=\"text-align: justify;font-size:15px\">\n",
    "    On the left, it plots the bandstructures. One can input several bandstructure json files as a list.\n",
    "    The figure on the right shows the density of states, which can only show one DOS plot. The json files\n",
    "    for the bandstructures can be generated from AiiDA with the verdi command:\n",
    "</p>\n",
    "\n",
    "```bash\n",
    "verdi data bands export --format json <IDENTIFIER>\n",
    "```\n",
    "\n",
    "<p style=\"text-align: justify;font-size:15px\">\n",
    "    The json format for the DOS can be checked in the github repository.\n",
    "</p>\n",
    "\n",
    "<a href=\"https://raw.githubusercontent.com/osscar-org/widget-bandsplot/develop/example/Si_pdos_data.json\">\n",
    "https://raw.githubusercontent.com/osscar-org/widget-bandsplot/develop/example/Si_pdos_data.json</a>\n",
    "\n",
    "<p style=\"text-align: justify;font-size:15px\">\n",
    "    Here, one needs to use the json package to load the json file and pass it to the widget.\n",
    "</p>\n",
    "\n",
    "```python\n",
    "with open('Si_bandsdata.json', 'r') as file:\n",
    "    data1 = json.load(file)\n",
    "    \n",
    "with open('Si_pdos_data.json', 'r') as file:\n",
    "    data2 = json.load(file)\n",
    "```\n",
    "\n",
    "## **Fermi energy**\n",
    "\n",
    "<p style=\"text-align: justify;font-size:15px\">\n",
    "    The Fermi energy is read from the bands and DOS json files. The bandstructure and density \n",
    "    of states plots have their origins aligned according to the provided Fermi energy (the Fermi energy is defined to be zero).\n",
    "</p>\n",
    "\n",
    "<p style=\"text-align: justify;font-size:15px\">\n",
    "    In the default plot for the DOS, there is a horizontal line to highlight the Fermi level. One \n",
    "    can turn it off by setting plot_fermilevel = False. The legend of the DOS can be turned off\n",
    "    by setting show_legend = False.\n",
    "</p>\n",
    "\n",
    "## **Usage of the widget**\n",
    "\n",
    "<p style=\"text-align: justify;font-size:15px\">\n",
    "    Remeber to pass the bandstructure data as a list of json objects. \"energy_range\" sets the \n",
    "    energy range for the plots.\n",
    "</p>\n",
    "\n",
    "###  **Plot both bandstructure and DOS**\n",
    "```python\n",
    "w1 = BandsPlotWidget(bands=[data1], dos=data2, plot_fermilevel = True, energy_range = {\"ymin\": -13.0, \"ymax\": 10.0})\n",
    "display(w1)\n",
    "```"
   ]
  },
  {
   "cell_type": "code",
   "execution_count": 1,
   "metadata": {},
   "outputs": [
    {
     "ename": "ModuleNotFoundError",
     "evalue": "No module named 'widget_bandsplot'",
     "output_type": "error",
     "traceback": [
      "\u001b[0;31m---------------------------------------------------------------------------\u001b[0m",
      "\u001b[0;31mModuleNotFoundError\u001b[0m                       Traceback (most recent call last)",
      "\u001b[0;32m/tmp/ipykernel_12364/1377445130.py\u001b[0m in \u001b[0;36m<module>\u001b[0;34m\u001b[0m\n\u001b[0;32m----> 1\u001b[0;31m \u001b[0;32mfrom\u001b[0m \u001b[0mwidget_bandsplot\u001b[0m \u001b[0;32mimport\u001b[0m \u001b[0;34m*\u001b[0m\u001b[0;34m\u001b[0m\u001b[0;34m\u001b[0m\u001b[0m\n\u001b[0m\u001b[1;32m      2\u001b[0m \u001b[0;32mimport\u001b[0m \u001b[0mjson\u001b[0m\u001b[0;34m\u001b[0m\u001b[0;34m\u001b[0m\u001b[0m\n\u001b[1;32m      3\u001b[0m \u001b[0;32mfrom\u001b[0m \u001b[0mcopy\u001b[0m \u001b[0;32mimport\u001b[0m \u001b[0mdeepcopy\u001b[0m\u001b[0;34m\u001b[0m\u001b[0;34m\u001b[0m\u001b[0m\n",
      "\u001b[0;31mModuleNotFoundError\u001b[0m: No module named 'widget_bandsplot'"
     ]
    }
   ],
   "source": [
    "from widget_bandsplot import *\n",
    "import json\n",
    "from copy import deepcopy"
   ]
  },
  {
   "cell_type": "code",
   "execution_count": null,
   "metadata": {},
   "outputs": [],
   "source": [
    "with open('Si_bands.json', 'r') as file:\n",
    "    data1 = json.load(file)\n",
    "    \n",
    "with open('Si_dos.json', 'r') as file:\n",
    "    data2 = json.load(file)"
   ]
  },
  {
   "cell_type": "code",
   "execution_count": null,
   "metadata": {},
   "outputs": [],
   "source": [
    "w1 = BandsPlotWidget(bands=[data1], dos=data2, plot_fermilevel = True, show_legend = True, energy_range = {\"ymin\": -13.0, \"ymax\": 10.0})\n",
    "display(w1)"
   ]
  },
  {
   "cell_type": "markdown",
   "metadata": {},
   "source": [
    "<p style=\"text-align: justify;font-size:15px\">\n",
    "    There are inputrea and button widgets below the figures. The inputarea widgets can be used to edit\n",
    "    the k-point path. The buttons are used to manipulate the figures and toggle plotting of the projected density of states.\n",
    "</p>\n",
    "\n",
    "<p style=\"text-align: justify;font-size:15px\">\n",
    "    One can also reuse the data from the widget and plot the DOS using matplotlib.   \n",
    "</p>\n",
    "\n",
    "```python\n",
    "import matplotlib\n",
    "import matplotlib.pyplot as plt\n",
    "import numpy as np\n",
    "\n",
    "fig, ax = plt.subplots()\n",
    "ax.plot(w.tdos_x, w.tdos_y, 'k')\n",
    "\n",
    "ax.fill_between(w.tdos_x, 0, w.tdos_y, color=\"red\")\n",
    "ax.set_ylim([0, 2.2])\n",
    "ax.axvline(w.fermi_energy, color='black')\n",
    "\n",
    "plt.show()\n",
    "```"
   ]
  },
  {
   "cell_type": "code",
   "execution_count": null,
   "metadata": {},
   "outputs": [],
   "source": [
    "%matplotlib widget\n",
    "\n",
    "import matplotlib\n",
    "import matplotlib.pyplot as plt\n",
    "import numpy as np\n",
    "\n",
    "fig, ax = plt.subplots()\n",
    "ax.plot(w1.tdos_x, w1.tdos_y, 'k')\n",
    "\n",
    "ax.fill_between(w1.tdos_x, 0, w1.tdos_y, color=\"red\")\n",
    "ax.set_ylim([0, 2.2])\n",
    "ax.axvline(w1.dos_fermienergy, color='black')\n",
    "\n",
    "plt.show()"
   ]
  },
  {
   "cell_type": "markdown",
   "metadata": {},
   "source": [
    "```{image} ./images/dos.png\n",
    ":alt: image bandstructure\n",
    ":class: bg-primary mb-1\n",
    ":width: 500px\n",
    ":align: center\n",
    "```\n"
   ]
  }
 ],
 "metadata": {
  "kernelspec": {
   "display_name": "Python 3 (ipykernel)",
   "language": "python",
   "name": "python3"
  },
  "language_info": {
   "codemirror_mode": {
    "name": "ipython",
    "version": 3
   },
   "file_extension": ".py",
   "mimetype": "text/x-python",
   "name": "python",
   "nbconvert_exporter": "python",
   "pygments_lexer": "ipython3",
   "version": "3.8.10"
  },
  "voila": {
   "authors": "Dou Du and Giovanni Pizzi"
  }
 },
 "nbformat": 4,
 "nbformat_minor": 4
}
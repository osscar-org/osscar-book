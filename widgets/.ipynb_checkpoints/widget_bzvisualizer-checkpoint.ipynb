{
 "cells": [
  {
   "cell_type": "markdown",
   "id": "alpine-philip",
   "metadata": {},
   "source": [
    "# `widget-bzvisualizer`: A Jupyter widget to visualize the 1st Brillouin zone and band paths\n",
    "\n",
    "**Source code**: [https://github.com/osscar-org/widget-bzvisualizer](https://github.com/osscar-org/widget-bzvisualizer) \n",
    "\n",
    "**Introduction**: A Jupyter widget to plot the 1st Brillouin zone and band paths. \n",
    "It uses the Javascript package [tools-seekpath](https://seekpath.readthedocs.io) developed \n",
    "by Materials Cloud."
   ]
  },
  {
   "cell_type": "markdown",
   "id": "7e37fe20-8d65-4556-9b77-86d5d422933e",
   "metadata": {},
   "source": [
    "## 1. Import the widget from the package"
   ]
  },
  {
   "cell_type": "code",
   "execution_count": null,
   "id": "frank-reputation",
   "metadata": {},
   "outputs": [],
   "source": [
    "from widget_bzvisualizer import BZVisualizer"
   ]
  },
  {
   "cell_type": "markdown",
   "id": "59a74f7b-d9d6-49e9-a48a-cec23a88738c",
   "metadata": {},
   "source": [
    "## 2. Initialize the parameters for the widget\n",
    "\n",
    "* cell: the cell vectors a, b, c\n",
    "* rel_coods: the coordinates of the atoms in unit vectors\n",
    "* atom_numbers: element numbers of the atoms"
   ]
  },
  {
   "cell_type": "code",
   "execution_count": null,
   "id": "mighty-devon",
   "metadata": {},
   "outputs": [],
   "source": [
    "from widget_bzvisualizer import BZVisualizer\n",
    "\n",
    "cell = [\n",
    "    [5.0, 0.0, 0.0],\n",
    "    [0.0, 5.0, 0.0],\n",
    "    [0.0, 0.0, 5.0],\n",
    "]\n",
    "# atomic coordinates in terms of unit vectors\n",
    "rel_coords = [[0.0, 0.0, 0.0]]\n",
    "# element numbers of atoms\n",
    "atom_numbers = [6]\n",
    "\n",
    "bz = BZVisualizer(\n",
    "    cell, rel_coords, atom_numbers,\n",
    "    width=\"100%\", height=\"400px\",\n",
    "    show_axes=True,\n",
    "    show_bvectors=True,\n",
    "    show_pathpoints=True,\n",
    "    disable_interact_overlay=True,\n",
    ")\n",
    "display(bz)"
   ]
  },
  {
   "cell_type": "code",
   "execution_count": null,
   "id": "5157f61b-e6da-4167-83f8-771d3eea6e0b",
   "metadata": {},
   "outputs": [],
   "source": []
  }
 ],
 "metadata": {
  "kernelspec": {
   "display_name": "Python 3 (ipykernel)",
   "language": "python",
   "name": "python3"
  },
  "language_info": {
   "codemirror_mode": {
    "name": "ipython",
    "version": 3
   },
   "file_extension": ".py",
   "mimetype": "text/x-python",
   "name": "python",
   "nbconvert_exporter": "python",
   "pygments_lexer": "ipython3",
   "version": "3.11.5"
  }
 },
 "nbformat": 4,
 "nbformat_minor": 5
}

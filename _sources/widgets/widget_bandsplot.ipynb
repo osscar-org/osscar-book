{
 "cells": [
  {
   "cell_type": "markdown",
   "metadata": {},
   "source": [
    "# **A Jupyter widget to plot the bandstructure and density of states (DOS)**\n",
    "\n",
    "**Source code**: [https://github.com/aiidalab/widget-bandsplot](https://github.com/aiidalab/widget-bandsplot) \n",
    "\n",
    "<hr style=\"height:1px;border:none;color:#cccccc;background-color:#cccccc;\" />"
   ]
  },
  {
   "cell_type": "markdown",
   "metadata": {},
   "source": [
    "<p style=\"text-align: justify;font-size:15px\">\n",
    "    This widget facilitates the plotting of electronic bandstructure and density of states from supplied json files.\n",
    "</p>\n",
    "\n",
    "\n",
    "\n",
    "## **Input json files**\n",
    "\n",
    "<p style=\"text-align: justify;font-size:15px\">\n",
    "    On the left, it plots the bandstructures. One can input several bandstructure json files as a list.\n",
    "    The figure on the right shows the density of states, which can only show one DOS plot. The json files\n",
    "    for the bandstructures can be generated from AiiDA with the verdi command:\n",
    "</p>\n",
    "\n",
    "```bash\n",
    "verdi data bands export --format json <IDENTIFIER>\n",
    "```\n",
    "\n",
    "<p style=\"text-align: justify;font-size:15px\">\n",
    "    The json format for the DOS can be checked in the github repository.\n",
    "</p>\n",
    "\n",
    "<a href=\"https://github.com/osscar-org/widget-bandsplot/blob/main/example/data/Si_dos.json\">\n",
    "https://github.com/osscar-org/widget-bandsplot/blob/main/example/data/Si_dos.json</a>\n",
    "\n",
    "<p style=\"text-align: justify;font-size:15px\">\n",
    "    Here, one needs to use the json package to load the json file and pass it to the widget.\n",
    "</p>\n",
    "\n",
    "```python\n",
    "with open('Si_bandsdata.json', 'r') as file:\n",
    "    data1 = json.load(file)\n",
    "    \n",
    "with open('Si_pdos_data.json', 'r') as file:\n",
    "    data2 = json.load(file)\n",
    "```\n",
    "\n",
    "## **Fermi energy**\n",
    "\n",
    "<p style=\"text-align: justify;font-size:15px\">\n",
    "    The Fermi energy is read from the bands and DOS json files. The bandstructure and density \n",
    "    of states plots have their origins aligned according to the provided Fermi energy (the Fermi energy is defined to be zero).\n",
    "</p>\n",
    "\n",
    "<p style=\"text-align: justify;font-size:15px\">\n",
    "    In the default plot for the DOS, there is a horizontal line to highlight the Fermi level. One \n",
    "    can turn it off by setting plot_fermilevel = False. The legend of the DOS can be turned off\n",
    "    by setting show_legend = False.\n",
    "</p>\n",
    "\n",
    "## **Usage of the widget**\n",
    "\n",
    "<p style=\"text-align: justify;font-size:15px\">\n",
    "    Remeber to pass the bandstructure data as a list of json objects. \"energy_range\" sets the \n",
    "    energy range for the plots.\n",
    "</p>\n",
    "\n",
    "###  **Plot both bandstructure and DOS**\n",
    "```python\n",
    "w1 = BandsPlotWidget(bands=[data1], dos=data2, plot_fermilevel = True, energy_range = {\"ymin\": -13.0, \"ymax\": 10.0})\n",
    "display(w1)\n",
    "```"
   ]
  },
  {
   "cell_type": "code",
   "execution_count": 2,
   "metadata": {
    "tags": []
   },
   "outputs": [],
   "source": [
    "from widget_bandsplot import BandsPlotWidget\n",
    "import json\n",
    "from copy import deepcopy"
   ]
  },
  {
   "cell_type": "code",
   "execution_count": 3,
   "metadata": {
    "tags": []
   },
   "outputs": [],
   "source": [
    "import json\n",
    "\n",
    "def load_file(filename):\n",
    "    with open(filename, 'r') as fhandle:\n",
    "        return json.load(fhandle)\n",
    "\n",
    "si_bands = load_file(\"./Si_bands.json\")\n",
    "si_dos = load_file(\"./Si_dos.json\")\n"
   ]
  },
  {
   "cell_type": "code",
   "execution_count": 4,
   "metadata": {
    "tags": []
   },
   "outputs": [
    {
     "data": {
      "application/vnd.jupyter.widget-view+json": {
       "model_id": "b88eb5973a3f44f1886b173bde431f1d",
       "version_major": 2,
       "version_minor": 0
      },
      "text/plain": [
       "BandsPlotWidget(bands=[{'label': '', 'path': [['GAMMA', 'X'], ['X', 'U'], ['K', 'GAMMA'], ['GAMMA', 'L'], ['L'…"
      ]
     },
     "metadata": {},
     "output_type": "display_data"
    }
   ],
   "source": [
    "w1 = BandsPlotWidget(\n",
    "    bands = [si_bands],\n",
    "    dos = si_dos,\n",
    "    energy_range = [-8.0, 8.0],\n",
    "    format_settings = {\n",
    "        \"showFermi\": True,\n",
    "        \"showLegend\": True,\n",
    "    }\n",
    ")\n",
    "display(w1)"
   ]
  },
  {
   "cell_type": "markdown",
   "metadata": {},
   "source": [
    "```{image} ./images/bands.png\n",
    ":alt: image bandstructure\n",
    ":class: bg-primary mb-1\n",
    ":width: 800px\n",
    ":height: 500px\n",
    ":align: center\n",
    "```"
   ]
  }
 ],
 "metadata": {
  "kernelspec": {
   "display_name": "Python 3 (ipykernel)",
   "language": "python",
   "name": "python3"
  },
  "language_info": {
   "codemirror_mode": {
    "name": "ipython",
    "version": 3
   },
   "file_extension": ".py",
   "mimetype": "text/x-python",
   "name": "python",
   "nbconvert_exporter": "python",
   "pygments_lexer": "ipython3",
   "version": "3.10.12"
  },
  "voila": {
   "authors": "Dou Du and Giovanni Pizzi"
  }
 },
 "nbformat": 4,
 "nbformat_minor": 4
}
